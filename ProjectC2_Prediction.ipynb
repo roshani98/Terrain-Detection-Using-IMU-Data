{
  "nbformat": 4,
  "nbformat_minor": 0,
  "metadata": {
    "colab": {
      "name": "ProjectC2- Prediction",
      "provenance": [],
      "collapsed_sections": []
    },
    "kernelspec": {
      "name": "python3",
      "display_name": "Python 3"
    },
    "language_info": {
      "name": "python"
    },
    "accelerator": "GPU"
  },
  "cells": [
    {
      "cell_type": "markdown",
      "metadata": {
        "id": "s6rp5dNbVPgR"
      },
      "source": [
        "# **Importing the required Libraries**"
      ]
    },
    {
      "cell_type": "code",
      "metadata": {
        "id": "SMtRl5XG2RTZ"
      },
      "source": [
        "# Importing all the required libraries\n",
        "import numpy as np\n",
        "import pandas as pd\n",
        "import matplotlib.pyplot as plt\n",
        "from keras.models import Sequential\n",
        "from keras.layers import LSTM\n",
        "from keras.layers import Dense\n",
        "from keras.layers import Flatten\n",
        "from keras.layers import TimeDistributed\n",
        "from keras.layers import Dropout\n",
        "from keras.layers.convolutional import Conv1D\n",
        "from keras.layers.convolutional import MaxPooling1D \n",
        "from tensorflow.keras.utils import to_categorical\n",
        "from sklearn.preprocessing import MinMaxScaler\n",
        "from sklearn.preprocessing import LabelEncoder\n",
        "from collections import Counter"
      ],
      "execution_count": null,
      "outputs": []
    },
    {
      "cell_type": "markdown",
      "metadata": {
        "id": "zHseZyYKK-zN"
      },
      "source": [
        "**Setting up GPU if available**"
      ]
    },
    {
      "cell_type": "code",
      "metadata": {
        "colab": {
          "base_uri": "https://localhost:8080/"
        },
        "id": "tjVH-Ck-FvMk",
        "outputId": "aed81507-079f-4b59-efbe-6aa544a0b049"
      },
      "source": [
        "import tensorflow as tf\n",
        "device_name = tf.test.gpu_device_name()\n",
        "if device_name != '/device:GPU:0':\n",
        "  raise SystemError('GPU device not found')\n",
        "print('Found GPU at: {}'.format(device_name))"
      ],
      "execution_count": null,
      "outputs": [
        {
          "output_type": "stream",
          "name": "stdout",
          "text": [
            "Found GPU at: /device:GPU:0\n"
          ]
        }
      ]
    },
    {
      "cell_type": "markdown",
      "metadata": {
        "id": "yN15lOrcVdiM"
      },
      "source": [
        "# **Reading the Dataset.**"
      ]
    },
    {
      "cell_type": "code",
      "metadata": {
        "id": "f3z0rGiEcsZk"
      },
      "source": [
        "trainX = pd.read_csv(\"Train/subject_001_01__x.csv\")\n",
        "trainXtime = pd.read_csv(\"Train/subject_001_01__x_time.csv\")\n",
        "trainY = pd.read_csv(\"Train/subject_001_01__y.csv\")\n",
        "trainYtime = pd.read_csv(\"Train/subject_001_01__y_time.csv\")"
      ],
      "execution_count": null,
      "outputs": []
    },
    {
      "cell_type": "code",
      "metadata": {
        "id": "RcSJDPnNvh6l"
      },
      "source": [
        "trainX12 = pd.read_csv(\"Train/subject_001_02__x.csv\")\n",
        "trainXtime12 = pd.read_csv(\"Train/subject_001_02__x_time.csv\")\n",
        "trainY12 = pd.read_csv(\"Train/subject_001_02__y.csv\")\n",
        "trainY12time = pd.read_csv(\"Train/subject_001_02__y_time.csv\")"
      ],
      "execution_count": null,
      "outputs": []
    },
    {
      "cell_type": "code",
      "metadata": {
        "id": "I3fvOLDg4X8C"
      },
      "source": [
        "trainX13 = pd.read_csv(\"Train/subject_001_03__x.csv\")\n",
        "trainXtime13 = pd.read_csv(\"Train/subject_001_03__x_time.csv\")\n",
        "trainY13 = pd.read_csv(\"Train/subject_001_03__y.csv\")\n",
        "trainY13time = pd.read_csv(\"Train/subject_001_03__y_time.csv\")"
      ],
      "execution_count": null,
      "outputs": []
    },
    {
      "cell_type": "code",
      "metadata": {
        "id": "BnhHJjVp4YS6"
      },
      "source": [
        "trainX14 = pd.read_csv(\"Train/subject_001_04__x.csv\")\n",
        "trainXtime14 = pd.read_csv(\"Train/subject_001_04__x_time.csv\")\n",
        "trainY14 = pd.read_csv(\"Train/subject_001_04__y.csv\")\n",
        "trainY14time = pd.read_csv(\"Train/subject_001_04__y_time.csv\")"
      ],
      "execution_count": null,
      "outputs": []
    },
    {
      "cell_type": "code",
      "metadata": {
        "id": "Owl7Fo8i4bdk"
      },
      "source": [
        "trainX15 = pd.read_csv(\"Train/subject_001_05__x.csv\")\n",
        "trainXtime15 = pd.read_csv(\"Train/subject_001_05__x_time.csv\")\n",
        "trainY15 = pd.read_csv(\"Train/subject_001_05__y.csv\")\n",
        "trainY15time = pd.read_csv(\"Train/subject_001_05__y_time.csv\")"
      ],
      "execution_count": null,
      "outputs": []
    },
    {
      "cell_type": "code",
      "metadata": {
        "id": "kEubMCrw2Ia0"
      },
      "source": [
        "trainX16 = pd.read_csv(\"Train/subject_001_06__x.csv\")\n",
        "trainXtime16 = pd.read_csv(\"Train/subject_001_06__x_time.csv\")\n",
        "trainY16 = pd.read_csv(\"Train/subject_001_06__y.csv\")\n",
        "trainY16time = pd.read_csv(\"Train/subject_001_06__y_time.csv\")\n"
      ],
      "execution_count": null,
      "outputs": []
    },
    {
      "cell_type": "code",
      "metadata": {
        "id": "zjk0WR4s77P6"
      },
      "source": [
        "trainX17 = pd.read_csv(\"Train/subject_001_07__x.csv\")\n",
        "trainXtime17 = pd.read_csv(\"Train/subject_001_07__x_time.csv\")\n",
        "trainY17 = pd.read_csv(\"Train/subject_001_07__y.csv\")\n",
        "trainY17time = pd.read_csv(\"Train/subject_001_07__y_time.csv\")"
      ],
      "execution_count": null,
      "outputs": []
    },
    {
      "cell_type": "code",
      "metadata": {
        "id": "tCLbDFiz8C7E"
      },
      "source": [
        "trainX18 = pd.read_csv(\"Train/subject_001_08__x.csv\")\n",
        "trainXtime18 = pd.read_csv(\"Train/subject_001_08__x_time.csv\")\n",
        "trainY18 = pd.read_csv(\"Train/subject_001_08__y.csv\")\n",
        "trainY18time = pd.read_csv(\"Train/subject_001_08__y_time.csv\")"
      ],
      "execution_count": null,
      "outputs": []
    },
    {
      "cell_type": "code",
      "metadata": {
        "id": "RI-hY516oHff"
      },
      "source": [
        "trainX2 = pd.read_csv(\"Train/subject_002_01__x.csv\")\n",
        "trainXtime2 = pd.read_csv(\"Train/subject_002_01__x_time.csv\")\n",
        "trainY2 = pd.read_csv(\"Train/subject_002_01__y.csv\")\n",
        "trainY2time = pd.read_csv(\"Train/subject_002_01__y_time.csv\")"
      ],
      "execution_count": null,
      "outputs": []
    },
    {
      "cell_type": "code",
      "metadata": {
        "id": "RNZnm0TQw7UO"
      },
      "source": [
        "trainX22 = pd.read_csv(\"Train/subject_002_02__x.csv\")\n",
        "trainXtime22 = pd.read_csv(\"Train/subject_002_02__x_time.csv\")\n",
        "trainY22 = pd.read_csv(\"Train/subject_002_02__y.csv\")\n",
        "trainY22time = pd.read_csv(\"Train/subject_002_02__y_time.csv\")"
      ],
      "execution_count": null,
      "outputs": []
    },
    {
      "cell_type": "code",
      "metadata": {
        "id": "of1rSGPk488c"
      },
      "source": [
        "trainX23 = pd.read_csv(\"Train/subject_002_03__x.csv\")\n",
        "trainXtime23 = pd.read_csv(\"Train/subject_002_03__x_time.csv\")\n",
        "trainY23 = pd.read_csv(\"Train/subject_002_03__y.csv\")\n",
        "trainY23time = pd.read_csv(\"Train/subject_002_03__y_time.csv\")"
      ],
      "execution_count": null,
      "outputs": []
    },
    {
      "cell_type": "code",
      "metadata": {
        "id": "yGxoUxIr49Ro"
      },
      "source": [
        "trainX24 = pd.read_csv(\"Train/subject_002_04__x.csv\")\n",
        "trainXtime24 = pd.read_csv(\"Train/subject_002_04__x_time.csv\")\n",
        "trainY24 = pd.read_csv(\"Train/subject_002_04__y.csv\")\n",
        "trainY24time = pd.read_csv(\"Train/subject_002_04__y_time.csv\")"
      ],
      "execution_count": null,
      "outputs": []
    },
    {
      "cell_type": "code",
      "metadata": {
        "id": "uCbF12St8X4H"
      },
      "source": [
        "trainX25 = pd.read_csv(\"Train/subject_002_05__x.csv\")\n",
        "trainXtime25 = pd.read_csv(\"Train/subject_002_05__x_time.csv\")\n",
        "trainY25 = pd.read_csv(\"Train/subject_002_05__y.csv\")\n",
        "trainY25time = pd.read_csv(\"Train/subject_002_05__y_time.csv\")"
      ],
      "execution_count": null,
      "outputs": []
    },
    {
      "cell_type": "code",
      "metadata": {
        "id": "Dag7K32aTp1v"
      },
      "source": [
        "trainX3 = pd.read_csv(\"Train/subject_003_01__x.csv\")\n",
        "trainXtime3 = pd.read_csv(\"Train/subject_003_01__x_time.csv\")\n",
        "trainY3 = pd.read_csv(\"Train/subject_003_01__y.csv\")\n",
        "trainY3time = pd.read_csv(\"Train/subject_003_01__y_time.csv\")"
      ],
      "execution_count": null,
      "outputs": []
    },
    {
      "cell_type": "code",
      "metadata": {
        "id": "XBZ_6Z4a5d0r"
      },
      "source": [
        "trainX32 = pd.read_csv(\"Train/subject_003_02__x.csv\")\n",
        "trainXtime32 = pd.read_csv(\"Train/subject_003_02__x_time.csv\")\n",
        "trainY32 = pd.read_csv(\"Train/subject_003_02__y.csv\")\n",
        "trainY32time = pd.read_csv(\"Train/subject_003_02__y_time.csv\")"
      ],
      "execution_count": null,
      "outputs": []
    },
    {
      "cell_type": "code",
      "metadata": {
        "id": "Xa8b3IQc5d7X"
      },
      "source": [
        "trainX33 = pd.read_csv(\"Train/subject_003_03__x.csv\")\n",
        "trainXtime33 = pd.read_csv(\"Train/subject_003_03__x_time.csv\")\n",
        "trainY33 = pd.read_csv(\"Train/subject_003_03__y.csv\")\n",
        "trainY33time = pd.read_csv(\"Train/subject_003_03__y_time.csv\")"
      ],
      "execution_count": null,
      "outputs": []
    },
    {
      "cell_type": "code",
      "metadata": {
        "id": "aeAQ9Ao2bGM_"
      },
      "source": [
        "trainX4 = pd.read_csv(\"Train/subject_004_01__x.csv\")\n",
        "trainXtime4 = pd.read_csv(\"Train/subject_004_01__x_time.csv\")\n",
        "trainY4 = pd.read_csv(\"Train/subject_004_01__y.csv\")\n",
        "trainY4time = pd.read_csv(\"Train/subject_004_01__y_time.csv\")"
      ],
      "execution_count": null,
      "outputs": []
    },
    {
      "cell_type": "code",
      "metadata": {
        "id": "bkmw75lz5u45"
      },
      "source": [
        "trainX42 = pd.read_csv(\"Train/subject_004_02__x.csv\")\n",
        "trainXtime42 = pd.read_csv(\"Train/subject_004_02__x_time.csv\")\n",
        "trainY42 = pd.read_csv(\"Train/subject_004_02__y.csv\")\n",
        "trainY42time = pd.read_csv(\"Train/subject_004_02__y_time.csv\")"
      ],
      "execution_count": null,
      "outputs": []
    },
    {
      "cell_type": "code",
      "metadata": {
        "id": "wDy98RW-je_O"
      },
      "source": [
        "trainX5 = pd.read_csv(\"Train/subject_005_01__x.csv\")\n",
        "trainXtime5 = pd.read_csv(\"Train/subject_005_01__x_time.csv\")\n",
        "trainY5 = pd.read_csv(\"Train/subject_005_01__y.csv\")\n",
        "trainY5time = pd.read_csv(\"Train/subject_005_01__y_time.csv\")"
      ],
      "execution_count": null,
      "outputs": []
    },
    {
      "cell_type": "code",
      "metadata": {
        "id": "S2ZCORqg55B6"
      },
      "source": [
        "trainX52 = pd.read_csv(\"Train/subject_005_02__x.csv\")\n",
        "trainXtime52 = pd.read_csv(\"Train/subject_005_02__x_time.csv\")\n",
        "trainY52 = pd.read_csv(\"Train/subject_005_02__y.csv\")\n",
        "trainY52time = pd.read_csv(\"Train/subject_005_02__y_time.csv\")"
      ],
      "execution_count": null,
      "outputs": []
    },
    {
      "cell_type": "code",
      "metadata": {
        "id": "U2M_JJeU8pkb"
      },
      "source": [
        "trainX53 = pd.read_csv(\"Train/subject_005_03__x.csv\")\n",
        "trainXtime53 = pd.read_csv(\"Train/subject_005_03__x_time.csv\")\n",
        "trainY53 = pd.read_csv(\"Train/subject_005_03__y.csv\")\n",
        "trainY53time = pd.read_csv(\"Train/subject_005_03__y_time.csv\")"
      ],
      "execution_count": null,
      "outputs": []
    },
    {
      "cell_type": "code",
      "metadata": {
        "id": "S8-6ooOwjvNu"
      },
      "source": [
        "trainX6 = pd.read_csv(\"Train/subject_006_01__x.csv\")\n",
        "trainXtime6 = pd.read_csv(\"Train/subject_006_01__x_time.csv\")\n",
        "trainY6 = pd.read_csv(\"Train/subject_006_01__y.csv\")\n",
        "trainY6time = pd.read_csv(\"Train/subject_006_01__y_time.csv\")"
      ],
      "execution_count": null,
      "outputs": []
    },
    {
      "cell_type": "code",
      "metadata": {
        "id": "MQGAvJKJ6Bvw"
      },
      "source": [
        "trainX62 = pd.read_csv(\"Train/subject_006_02__x.csv\")\n",
        "trainXtime62 = pd.read_csv(\"Train/subject_006_02__x_time.csv\")\n",
        "trainY62 = pd.read_csv(\"Train/subject_006_02__y.csv\")\n",
        "trainY62time = pd.read_csv(\"Train/subject_006_02__y_time.csv\")"
      ],
      "execution_count": null,
      "outputs": []
    },
    {
      "cell_type": "code",
      "metadata": {
        "id": "4vDKAzWc9BRu"
      },
      "source": [
        "trainX63 = pd.read_csv(\"Train/subject_006_03__x.csv\")\n",
        "trainXtime63 = pd.read_csv(\"Train/subject_006_03__x_time.csv\")\n",
        "trainY63 = pd.read_csv(\"Train/subject_006_03__y.csv\")\n",
        "trainY63time = pd.read_csv(\"Train/subject_006_03__y_time.csv\")"
      ],
      "execution_count": null,
      "outputs": []
    },
    {
      "cell_type": "code",
      "metadata": {
        "id": "vVuzoMrf9JMj"
      },
      "source": [
        "trainX71 = pd.read_csv(\"Train/subject_007_01__x.csv\")\n",
        "trainXtime71 = pd.read_csv(\"Train/subject_007_01__x_time.csv\")\n",
        "trainY71 = pd.read_csv(\"Train/subject_007_01__y.csv\")\n",
        "trainY71time = pd.read_csv(\"Train/subject_007_01__y_time.csv\")"
      ],
      "execution_count": null,
      "outputs": []
    },
    {
      "cell_type": "code",
      "metadata": {
        "id": "S_SFq1mJBLrK"
      },
      "source": [
        "trainX72 = pd.read_csv(\"Train/subject_007_02__x.csv\")\n",
        "trainXtime72 = pd.read_csv(\"Train/subject_007_02__x_time.csv\")\n",
        "trainY72 = pd.read_csv(\"Train/subject_007_02__y.csv\")\n",
        "trainY72time = pd.read_csv(\"Train/subject_007_02__y_time.csv\")"
      ],
      "execution_count": null,
      "outputs": []
    },
    {
      "cell_type": "code",
      "metadata": {
        "id": "NejByRl-BWLK"
      },
      "source": [
        "trainX73 = pd.read_csv(\"Train/subject_007_03__x.csv\")\n",
        "trainXtime73 = pd.read_csv(\"Train/subject_007_03__x_time.csv\")\n",
        "trainY73 = pd.read_csv(\"Train/subject_007_03__y.csv\")\n",
        "trainY73time = pd.read_csv(\"Train/subject_007_03__y_time.csv\")"
      ],
      "execution_count": null,
      "outputs": []
    },
    {
      "cell_type": "code",
      "metadata": {
        "id": "fNXnhpjuBeCV"
      },
      "source": [
        "trainX74 = pd.read_csv(\"Train/subject_007_04__x.csv\")\n",
        "trainXtime74 = pd.read_csv(\"Train/subject_007_04__x_time.csv\")\n",
        "trainY74 = pd.read_csv(\"Train/subject_007_04__y.csv\")\n",
        "trainY74time = pd.read_csv(\"Train/subject_007_04__y_time.csv\")"
      ],
      "execution_count": null,
      "outputs": []
    },
    {
      "cell_type": "markdown",
      "metadata": {
        "id": "JkDHDhc3Vz_z"
      },
      "source": [
        "# **Preparing the Data.**\n",
        "For each session of each subject, we first align the timesteps of the Data and the Labels. Further, we chose not to downsample the data. Every data point we feed the model consists of 64 consecutive timesteps, with the last timestep being the one we predict the label for. So datapoint number 'i' would consist of timestep (i-64) to i. Since the frequiency of the data and labels are different, each data point would consist of 16 timesteps from the labels. So the shape of each datapoint would be (1,64,6)."
      ]
    },
    {
      "cell_type": "code",
      "metadata": {
        "id": "6mEQrncmeE38"
      },
      "source": [
        "X = np.array(trainX.values)\n",
        "X = X[1:len(X)]\n",
        "train_X = np.array([X[0:64]])\n",
        "    \n",
        "for i in range(68,len(X),4):\n",
        "  train_X = np.vstack((train_X,[X[i-64:i]]))\n",
        "  if i%10000 == 0:\n",
        "    print(i)\n",
        "  #if(len(X) - i <= 32):\n",
        "    #break\n",
        "trainY = trainY[16:]"
      ],
      "execution_count": null,
      "outputs": []
    },
    {
      "cell_type": "code",
      "metadata": {
        "id": "iCXGxet9v-7r"
      },
      "source": [
        "X12 = np.array(trainX12.values)\n",
        "X12 = X12[1:len(X12)-2]\n",
        "train_X12 = np.array([X12[0:64]])\n",
        "    \n",
        "for i in range(68,len(X12),4):\n",
        "  train_X12 = np.vstack((train_X12,[X12[i-64:i]]))\n",
        "  if i%10000 == 0:\n",
        "    print(i)\n",
        "  #if(len(X) - i <= 32):\n",
        "    #break\n",
        "trainY12 = trainY12[16:]"
      ],
      "execution_count": null,
      "outputs": []
    },
    {
      "cell_type": "code",
      "metadata": {
        "id": "J9dHnHSg6wpR"
      },
      "source": [
        "X13 = np.array(trainX13.values)\n",
        "X13 = X13[1:len(X13)]\n",
        "train_X13 = np.array([X13[0:64]])\n",
        "    \n",
        "for i in range(68,len(X13),4):\n",
        "  train_X13 = np.vstack((train_X13,[X13[i-64:i]]))\n",
        "  if i%10000 == 0:\n",
        "    print(i)\n",
        "  #if(len(X) - i <= 32):\n",
        "    #break\n",
        "trainY13 = trainY13[16:]"
      ],
      "execution_count": null,
      "outputs": []
    },
    {
      "cell_type": "code",
      "metadata": {
        "id": "ytgc_rL87SCI"
      },
      "source": [
        "X14 = np.array(trainX14.values)\n",
        "X14 = X14[1:len(X14)-2]\n",
        "train_X14 = np.array([X14[0:64]])\n",
        "    \n",
        "for i in range(68,len(X14),4):\n",
        "  train_X14 = np.vstack((train_X14,[X14[i-64:i]]))\n",
        "  if i%10000 == 0:\n",
        "    print(i)\n",
        "  #if(len(X) - i <= 32):\n",
        "    #break\n",
        "trainY14 = trainY14[16:]"
      ],
      "execution_count": null,
      "outputs": []
    },
    {
      "cell_type": "code",
      "metadata": {
        "id": "IUTAirPL89fI"
      },
      "source": [
        "X15 = np.array(trainX15.values)\n",
        "X15 = X15[1:len(X15)-3]\n",
        "train_X15 = np.array([X15[0:64]])\n",
        "    \n",
        "for i in range(68,len(X15),4):\n",
        "  train_X15 = np.vstack((train_X15,[X15[i-64:i]]))\n",
        "  if i%10000 == 0:\n",
        "    print(i)\n",
        "  #if(len(X) - i <= 32):\n",
        "    #break\n",
        "trainY15 = trainY15[16:]"
      ],
      "execution_count": null,
      "outputs": []
    },
    {
      "cell_type": "code",
      "metadata": {
        "id": "biE9WOwUCsWt"
      },
      "source": [
        "X16 = np.array(trainX16.values)\n",
        "X16 = X16[1:len(X16)-1]\n",
        "train_X16 = np.array([X16[0:64]])\n",
        "    \n",
        "for i in range(68,len(X16),4):\n",
        "  train_X16 = np.vstack((train_X16,[X16[i-64:i]]))\n",
        "  if i%10000 == 0:\n",
        "    print(i)\n",
        "  #if(len(X) - i <= 32):\n",
        "    #break\n",
        "trainY16 = trainY16[16:]"
      ],
      "execution_count": null,
      "outputs": []
    },
    {
      "cell_type": "code",
      "metadata": {
        "id": "SfJ4PRLzC5b7"
      },
      "source": [
        "X17 = np.array(trainX17.values)\n",
        "X17 = X17[1:len(X17)-1]\n",
        "train_X17 = np.array([X17[0:64]])\n",
        "    \n",
        "for i in range(68,len(X17),4):\n",
        "  train_X17 = np.vstack((train_X17,[X17[i-64:i]]))\n",
        "  if i%10000 == 0:\n",
        "    print(i)\n",
        "  #if(len(X) - i <= 32):\n",
        "    #break\n",
        "trainY17 = trainY17[16:]"
      ],
      "execution_count": null,
      "outputs": []
    },
    {
      "cell_type": "code",
      "metadata": {
        "id": "bwrNkdd5DG9Y"
      },
      "source": [
        "X18 = np.array(trainX18.values)\n",
        "X18 = X18[1:len(X18)]\n",
        "train_X18 = np.array([X18[0:64]])\n",
        "    \n",
        "for i in range(68,len(X18),4):\n",
        "  train_X18 = np.vstack((train_X18,[X18[i-64:i]]))\n",
        "  if i%10000 == 0:\n",
        "    print(i)\n",
        "  #if(len(X) - i <= 32):\n",
        "    #break\n",
        "trainY18 = trainY18[16:]"
      ],
      "execution_count": null,
      "outputs": []
    },
    {
      "cell_type": "code",
      "metadata": {
        "id": "GS2yWRl4nuhP"
      },
      "source": [
        "X2 = np.array(trainX2.values)\n",
        "X2 = X2[1:len(X2)-1]\n",
        "train_X2 = np.array([X2[0:64]])\n",
        "    \n",
        "for i in range(68,len(X2),4):\n",
        "  train_X2 = np.vstack((train_X2,[X2[i-64:i]]))\n",
        "  if i%10000 == 0:\n",
        "    print(i)\n",
        "  #if(len(X) - i <= 32):\n",
        "    #break\n",
        "trainY2 = trainY2[16:]"
      ],
      "execution_count": null,
      "outputs": []
    },
    {
      "cell_type": "code",
      "metadata": {
        "id": "O2I9jcNDwu0a"
      },
      "source": [
        "X22 = np.array(trainX22.values)\n",
        "X22 = X22[1:len(X22)-3]\n",
        "train_X22 = np.array([X22[0:64]])\n",
        "    \n",
        "for i in range(68,len(X22),4):\n",
        "  train_X22 = np.vstack((train_X22,[X22[i-64:i]]))\n",
        "  if i%10000 == 0:\n",
        "    print(i)\n",
        "  #if(len(X) - i <= 32):\n",
        "    #break\n",
        "trainY22 = trainY22[16:]"
      ],
      "execution_count": null,
      "outputs": []
    },
    {
      "cell_type": "code",
      "metadata": {
        "id": "SB3xuoGi9V_R"
      },
      "source": [
        "X23 = np.array(trainX23.values)\n",
        "X23 = X23[1:len(X23)-3]\n",
        "train_X23 = np.array([X23[0:64]])\n",
        "    \n",
        "for i in range(68,len(X23),4):\n",
        "  train_X23 = np.vstack((train_X23,[X23[i-64:i]]))\n",
        "  if i%10000 == 0:\n",
        "    print(i)\n",
        "  #if(len(X) - i <= 32):\n",
        "    #break\n",
        "trainY23 = trainY23[16:]"
      ],
      "execution_count": null,
      "outputs": []
    },
    {
      "cell_type": "code",
      "metadata": {
        "id": "LhZnTcor9x3G"
      },
      "source": [
        "X24 = np.array(trainX24.values)\n",
        "X24 = X24[1:len(X24)-3]\n",
        "train_X24 = np.array([X24[0:64]])\n",
        "    \n",
        "for i in range(68,len(X24),4):\n",
        "  train_X24 = np.vstack((train_X24,[X24[i-64:i]]))\n",
        "  if i%10000 == 0:\n",
        "    print(i)\n",
        "  #if(len(X) - i <= 32):\n",
        "    #break\n",
        "trainY24 = trainY24[16:]"
      ],
      "execution_count": null,
      "outputs": []
    },
    {
      "cell_type": "code",
      "metadata": {
        "id": "Hwtsxp53DnDN"
      },
      "source": [
        "X25 = np.array(trainX25.values)\n",
        "X25 = X25[1:len(X25)-1]\n",
        "train_X25 = np.array([X25[0:64]])\n",
        "    \n",
        "for i in range(68,len(X25),4):\n",
        "  train_X25 = np.vstack((train_X25,[X25[i-64:i]]))\n",
        "  if i%10000 == 0:\n",
        "    print(i)\n",
        "  #if(len(X) - i <= 32):\n",
        "    #break\n",
        "trainY25 = trainY25[16:]"
      ],
      "execution_count": null,
      "outputs": []
    },
    {
      "cell_type": "code",
      "metadata": {
        "id": "_hogNQUCUCvI"
      },
      "source": [
        "X3 = np.array(trainX3.values)\n",
        "X3 = X3[1:len(X3)-3]\n",
        "train_X3 = np.array([X3[0:64]])\n",
        "    \n",
        "for i in range(68,len(X3),4):\n",
        "  train_X3 = np.vstack((train_X3,[X3[i-64:i]]))\n",
        "  if i%10000 == 0:\n",
        "    print(i)\n",
        "  #if(len(X) - i <= 32):\n",
        "    #break\n",
        "trainY3 = trainY3[16:]"
      ],
      "execution_count": null,
      "outputs": []
    },
    {
      "cell_type": "code",
      "metadata": {
        "id": "eQHcpw5Z98Vx"
      },
      "source": [
        "X32 = np.array(trainX32.values)\n",
        "X32 = X32[1:len(X32)]\n",
        "train_X32 = np.array([X32[0:64]])\n",
        "    \n",
        "for i in range(68,len(X32),4):\n",
        "  train_X32 = np.vstack((train_X32,[X32[i-64:i]]))\n",
        "  if i%10000 == 0:\n",
        "    print(i)\n",
        "  #if(len(X) - i <= 32):\n",
        "    #break\n",
        "trainY32 = trainY32[16:]"
      ],
      "execution_count": null,
      "outputs": []
    },
    {
      "cell_type": "code",
      "metadata": {
        "id": "uA8qdct1-P9p"
      },
      "source": [
        "X33 = np.array(trainX33.values)\n",
        "X33 = X33[1:len(X33)-3]\n",
        "train_X33 = np.array([X33[0:64]])\n",
        "    \n",
        "for i in range(68,len(X33),4):\n",
        "  train_X33 = np.vstack((train_X33,[X33[i-64:i]]))\n",
        "  if i%10000 == 0:\n",
        "    print(i)\n",
        "  #if(len(X) - i <= 32):\n",
        "    #break\n",
        "trainY33 = trainY33[16:]"
      ],
      "execution_count": null,
      "outputs": []
    },
    {
      "cell_type": "code",
      "metadata": {
        "id": "FIfuGS2S-ohY"
      },
      "source": [
        "X4 = np.array(trainX4.values)\n",
        "X4 = X4[1:len(X4)-3]\n",
        "train_X4 = np.array([X4[0:64]])\n",
        "    \n",
        "for i in range(68,len(X4),4):\n",
        "  train_X4 = np.vstack((train_X4,[X4[i-64:i]]))\n",
        "  if i%10000 == 0:\n",
        "    print(i)\n",
        "  #if(len(X) - i <= 32):\n",
        "    #break\n",
        "trainY4 = trainY4[16:]"
      ],
      "execution_count": null,
      "outputs": []
    },
    {
      "cell_type": "code",
      "metadata": {
        "id": "vhLHf6igbfXz"
      },
      "source": [
        "X42 = np.array(trainX42.values)\n",
        "X42 = X42[1:len(X42)-2]\n",
        "train_X42 = np.array([X42[0:64]])\n",
        "    \n",
        "for i in range(68,len(X42),4):\n",
        "  train_X42 = np.vstack((train_X42,[X42[i-64:i]]))\n",
        "  if i%10000 == 0:\n",
        "    print(i)\n",
        "  #if(len(X) - i <= 32):\n",
        "    #break\n",
        "trainY42 = trainY42[16:]"
      ],
      "execution_count": null,
      "outputs": []
    },
    {
      "cell_type": "code",
      "metadata": {
        "id": "2RgeFaA6kC_L"
      },
      "source": [
        "X5 = np.array(trainX5.values)\n",
        "X5 = X5[1:len(X5)-1]\n",
        "train_X5 = np.array([X5[0:64]])\n",
        "    \n",
        "for i in range(68,len(X5),4):\n",
        "  train_X5 = np.vstack((train_X5,[X5[i-64:i]]))\n",
        "  if i%10000 == 0:\n",
        "    print(i)\n",
        "  #if(len(X) - i <= 32):\n",
        "    #break\n",
        "trainY5 = trainY5[16:]"
      ],
      "execution_count": null,
      "outputs": []
    },
    {
      "cell_type": "code",
      "metadata": {
        "id": "JsdVkkS6-8oB"
      },
      "source": [
        "X52 = np.array(trainX52.values)\n",
        "X52 = X52[1:len(X52)-1]\n",
        "train_X52 = np.array([X52[0:64]])\n",
        "    \n",
        "for i in range(68,len(X52),4):\n",
        "  train_X52 = np.vstack((train_X52,[X52[i-64:i]]))\n",
        "  if i%10000 == 0:\n",
        "    print(i)\n",
        "  #if(len(X) - i <= 32):\n",
        "    #break\n",
        "trainY52 = trainY52[16:]"
      ],
      "execution_count": null,
      "outputs": []
    },
    {
      "cell_type": "code",
      "metadata": {
        "id": "ddsRt-rKEzGC"
      },
      "source": [
        "X53 = np.array(trainX53.values)\n",
        "X53 = X53[1:len(X53)-3]\n",
        "train_X53 = np.array([X53[0:64]])\n",
        "    \n",
        "for i in range(68,len(X53),4):\n",
        "  train_X53 = np.vstack((train_X53,[X53[i-64:i]]))\n",
        "  if i%10000 == 0:\n",
        "    print(i)\n",
        "  #if(len(X) - i <= 32):\n",
        "    #break\n",
        "trainY53 = trainY53[16:]"
      ],
      "execution_count": null,
      "outputs": []
    },
    {
      "cell_type": "code",
      "metadata": {
        "id": "ME2P2iL4k79B"
      },
      "source": [
        "X6 = np.array(trainX6.values)\n",
        "X6 = X6[1:len(X6)-3]\n",
        "train_X6 = np.array([X6[0:64]])\n",
        "    \n",
        "for i in range(68,len(X6),4):\n",
        "  train_X6 = np.vstack((train_X6,[X6[i-64:i]]))\n",
        "  if i%10000 == 0:\n",
        "    print(i)\n",
        "  #if(len(X) - i <= 32):\n",
        "    #break\n",
        "trainY6 = trainY6[16:]"
      ],
      "execution_count": null,
      "outputs": []
    },
    {
      "cell_type": "code",
      "metadata": {
        "id": "87ARXgMr_NGm"
      },
      "source": [
        "X62 = np.array(trainX62.values)\n",
        "X62 = X62[1:len(X62)]\n",
        "train_X62 = np.array([X62[0:64]])\n",
        "    \n",
        "for i in range(68,len(X62),4):\n",
        "  train_X62 = np.vstack((train_X62,[X62[i-64:i]]))\n",
        "  if i%10000 == 0:\n",
        "    print(i)\n",
        "  #if(len(X) - i <= 32):\n",
        "    #break\n",
        "trainY62 = trainY62[16:]"
      ],
      "execution_count": null,
      "outputs": []
    },
    {
      "cell_type": "code",
      "metadata": {
        "id": "WASebspZFXdV"
      },
      "source": [
        "X63 = np.array(trainX63.values)\n",
        "X63 = X63[1:len(X63)-3]\n",
        "train_X63 = np.array([X63[0:64]])\n",
        "    \n",
        "for i in range(68,len(X63),4):\n",
        "  train_X63 = np.vstack((train_X63,[X63[i-64:i]]))\n",
        "  if i%10000 == 0:\n",
        "    print(i)\n",
        "  #if(len(X) - i <= 32):\n",
        "    #break\n",
        "trainY63 = trainY63[16:]"
      ],
      "execution_count": null,
      "outputs": []
    },
    {
      "cell_type": "code",
      "metadata": {
        "id": "iUpU2v-kFu41"
      },
      "source": [
        "X71 = np.array(trainX71.values)\n",
        "X71 = X71[1:len(X71)-3]\n",
        "train_X71 = np.array([X71[0:64]])\n",
        "    \n",
        "for i in range(68,len(X71),4):\n",
        "  train_X71 = np.vstack((train_X71,[X71[i-64:i]]))\n",
        "  if i%10000 == 0:\n",
        "    print(i)\n",
        "  #if(len(X) - i <= 32):\n",
        "    #break\n",
        "trainY71 = trainY71[16:]"
      ],
      "execution_count": null,
      "outputs": []
    },
    {
      "cell_type": "code",
      "metadata": {
        "id": "S7ckHVapGKrp"
      },
      "source": [
        "X72 = np.array(trainX72.values)\n",
        "X72 = X72[1:len(X72)-3]\n",
        "train_X72 = np.array([X72[0:64]])\n",
        "    \n",
        "for i in range(68,len(X72),4):\n",
        "  train_X72 = np.vstack((train_X72,[X72[i-64:i]]))\n",
        "  if i%10000 == 0:\n",
        "    print(i)\n",
        "  #if(len(X) - i <= 32):\n",
        "    #break\n",
        "trainY72 = trainY72[16:]"
      ],
      "execution_count": null,
      "outputs": []
    },
    {
      "cell_type": "code",
      "metadata": {
        "id": "zavOh6NzGlOB"
      },
      "source": [
        "X73 = np.array(trainX73.values)\n",
        "X73 = X72[1:len(X73)-3]\n",
        "train_X73 = np.array([X73[0:64]])\n",
        "    \n",
        "for i in range(68,len(X73),4):\n",
        "  train_X73 = np.vstack((train_X73,[X73[i-64:i]]))\n",
        "  if i%10000 == 0:\n",
        "    print(i)\n",
        "  #if(len(X) - i <= 32):\n",
        "    #break\n",
        "trainY73 = trainY73[16:]"
      ],
      "execution_count": null,
      "outputs": []
    },
    {
      "cell_type": "code",
      "metadata": {
        "id": "gMQ8NFeyGlsl"
      },
      "source": [
        "X74 = np.array(trainX74.values)\n",
        "X74 = X74[1:len(X74)-1]\n",
        "train_X74 = np.array([X74[0:64]])\n",
        "    \n",
        "for i in range(68,len(X74),4):\n",
        "  train_X74 = np.vstack((train_X74,[X74[i-64:i]]))\n",
        "  if i%10000 == 0:\n",
        "    print(i)\n",
        "  #if(len(X) - i <= 32):\n",
        "    #break\n",
        "trainY74 = trainY74[16:]"
      ],
      "execution_count": null,
      "outputs": []
    },
    {
      "cell_type": "markdown",
      "metadata": {
        "id": "8aC9zmDVZPp2"
      },
      "source": [
        "# **Stacking up the data from all the sessions and subjects.**"
      ]
    },
    {
      "cell_type": "code",
      "metadata": {
        "id": "5ce0MtZIptWj"
      },
      "source": [
        "XTrain = np.vstack((train_X,train_X2))\n",
        "YTrain = np.vstack((trainY,trainY2))\n",
        "\n",
        "XTrain = np.vstack((XTrain,train_X3))\n",
        "YTrain = np.vstack((YTrain,trainY3))\n",
        "\n",
        "XTrain = np.vstack((XTrain,train_X4))\n",
        "YTrain = np.vstack((YTrain,trainY4))\n",
        "\n",
        "XTrain = np.vstack((XTrain,train_X5))\n",
        "YTrain = np.vstack((YTrain,trainY5))\n",
        "\n",
        "XTrain = np.vstack((XTrain,train_X6))\n",
        "YTrain = np.vstack((YTrain,trainY6))\n",
        "\n",
        "XTrain = np.vstack((XTrain,train_X71))\n",
        "YTrain = np.vstack((YTrain,trainY71))\n",
        "\n",
        "XTrain = np.vstack((XTrain,train_X12))\n",
        "YTrain = np.vstack((YTrain,trainY12))\n",
        "\n",
        "XTrain = np.vstack((XTrain,train_X22))\n",
        "YTrain = np.vstack((YTrain,trainY22))\n",
        "\n",
        "XTrain = np.vstack((XTrain,train_X32))\n",
        "YTrain = np.vstack((YTrain,trainY32))\n",
        "\n",
        "XTrain = np.vstack((XTrain,train_X42))\n",
        "YTrain = np.vstack((YTrain,trainY42))\n",
        "\n",
        "XTrain = np.vstack((XTrain,train_X52))\n",
        "YTrain = np.vstack((YTrain,trainY52))\n",
        "\n",
        "XTrain = np.vstack((XTrain,train_X62))\n",
        "YTrain = np.vstack((YTrain,trainY62))\n",
        "\n",
        "XTrain = np.vstack((XTrain,train_X72))\n",
        "YTrain = np.vstack((YTrain,trainY72))\n",
        "\n",
        "XTrain = np.vstack((XTrain,train_X13))\n",
        "YTrain = np.vstack((YTrain,trainY13))\n",
        "\n",
        "XTrain = np.vstack((XTrain,train_X23))\n",
        "YTrain = np.vstack((YTrain,trainY23))\n",
        "\n",
        "XTrain = np.vstack((XTrain,train_X14))\n",
        "YTrain = np.vstack((YTrain,trainY14))\n",
        "\n",
        "XTrain = np.vstack((XTrain,train_X33))\n",
        "YTrain = np.vstack((YTrain,trainY33))\n",
        "\n",
        "XTrain = np.vstack((XTrain,train_X53))\n",
        "YTrain = np.vstack((YTrain,trainY53))\n",
        "\n",
        "XTrain = np.vstack((XTrain,train_X63))\n",
        "YTrain = np.vstack((YTrain,trainY63))\n",
        "\n",
        "XTrain = np.vstack((XTrain,train_X73))\n",
        "YTrain = np.vstack((YTrain,trainY73))\n",
        "\n",
        "XTrain = np.vstack((XTrain,train_X15))\n",
        "YTrain = np.vstack((YTrain,trainY15))\n",
        "\n",
        "XTrain = np.vstack((XTrain,train_X24))\n",
        "YTrain = np.vstack((YTrain,trainY24))\n",
        "\n",
        "XTrain = np.vstack((XTrain,train_X74))\n",
        "YTrain = np.vstack((YTrain,trainY74))\n"
      ],
      "execution_count": null,
      "outputs": []
    },
    {
      "cell_type": "code",
      "metadata": {
        "id": "4RwfC5fnaYjK"
      },
      "source": [
        "XTrain.shape"
      ],
      "execution_count": null,
      "outputs": []
    },
    {
      "cell_type": "code",
      "metadata": {
        "id": "7mm5QuYDaY2S"
      },
      "source": [
        "YTrain.shape"
      ],
      "execution_count": null,
      "outputs": []
    },
    {
      "cell_type": "markdown",
      "metadata": {
        "id": "TMeL0K18ZZ5H"
      },
      "source": [
        "# **Dealing with imbalance in the data.**\n",
        "To deal with the imbalance in our data, we remove some datapoints with '0' label. We only keep every 6th datapoint with label 0."
      ]
    },
    {
      "cell_type": "code",
      "metadata": {
        "id": "EQ6t9uWb9hiA"
      },
      "source": [
        "#We downsample the data by removing the the datapoints labeled 0. We only keep every 6th 0 labeled point.\n",
        "\n",
        "c = 0\n",
        "Xtrain = XTrain[0:2]\n",
        "Ytrain = YTrain[0:2]\n",
        "for k in range(2,len(XTrain)-1):\n",
        "  if k%10000 == 0:\n",
        "    print(k)\n",
        "  \n",
        "  if YTrain[k] != 0:\n",
        "    Xtrain = np.vstack((Xtrain,[XTrain[k]]))\n",
        "    Ytrain = np.vstack((Ytrain,[YTrain[k]]))\n",
        "    \n",
        "  \n",
        "  if YTrain[k] == 0:\n",
        "    c=c+1\n",
        "    if (c%6 == 0 ):\n",
        "      Xtrain = np.vstack((Xtrain,[XTrain[k]]))\n",
        "      Ytrain = np.vstack((Ytrain,[YTrain[k]]))"
      ],
      "execution_count": null,
      "outputs": []
    },
    {
      "cell_type": "code",
      "metadata": {
        "id": "GOeeJRqvR_gu"
      },
      "source": [
        "Xtrain.shape"
      ],
      "execution_count": null,
      "outputs": []
    },
    {
      "cell_type": "code",
      "metadata": {
        "id": "CvDrpQVUTDQ9"
      },
      "source": [
        "Ytrain.shape"
      ],
      "execution_count": null,
      "outputs": []
    },
    {
      "cell_type": "code",
      "metadata": {
        "id": "WbvlR3gr38HX"
      },
      "source": [
        "# check distribution of data\n",
        "#\n",
        "# summarize distribution\n",
        "blah = LabelEncoder().fit_transform(Ytrain)\n",
        "counter = Counter(blah)\n",
        "for k,v in counter.items():\n",
        "    per = v / len(blah) * 100\n",
        "    print('Class=%d, n=%d (%.3f%%)' % (k, v, per))\n",
        "# plot the distribution\n",
        "plt.bar(counter.keys(), counter.values())\n",
        "plt.show()"
      ],
      "execution_count": null,
      "outputs": []
    },
    {
      "cell_type": "markdown",
      "metadata": {
        "id": "5WRo4443aH1X"
      },
      "source": [
        "# **Preparing the test data.**"
      ]
    },
    {
      "cell_type": "code",
      "metadata": {
        "id": "KT6d0mWGqa6n"
      },
      "source": [
        "testX = pd.read_csv(\"Test/subject_008_01__x.csv\")\n",
        "testXtime = pd.read_csv(\"Test/subject_008_01__x_time.csv\")\n",
        "testY = pd.read_csv(\"Test/subject_008_01__y.csv\")\n",
        "testYtime = pd.read_csv(\"Test/subject_008_01__y_time.csv\")"
      ],
      "execution_count": null,
      "outputs": []
    },
    {
      "cell_type": "code",
      "metadata": {
        "id": "kw5Yf_4kgV3Z"
      },
      "source": [
        "testX9 = pd.read_csv(\"Test/subject_009_01__x.csv\")\n",
        "testXtime9 = pd.read_csv(\"Test/subject_009_01__x_time.csv\")\n",
        "testY9time = pd.read_csv(\"Test/subject_009_01__y_time.csv\")"
      ],
      "execution_count": null,
      "outputs": []
    },
    {
      "cell_type": "code",
      "metadata": {
        "id": "LRorfM6ggfxP"
      },
      "source": [
        "testX10 = pd.read_csv(\"Test/subject_010_01__x.csv\")\n",
        "testXtime10 = pd.read_csv(\"Test/subject_010_01__x_time.csv\")\n",
        "testY10time = pd.read_csv(\"Test/subject_010_01__y_time.csv\")"
      ],
      "execution_count": null,
      "outputs": []
    },
    {
      "cell_type": "code",
      "metadata": {
        "id": "DeA0s4tSggO6"
      },
      "source": [
        "testX11 = pd.read_csv(\"Test/subject_011_01__x.csv\")\n",
        "testXtime11 = pd.read_csv(\"Test/subject_011_01__x_time.csv\")\n",
        "testY11time = pd.read_csv(\"Test/subject_011_01__y_time.csv\")"
      ],
      "execution_count": null,
      "outputs": []
    },
    {
      "cell_type": "code",
      "metadata": {
        "id": "ZBpihhR6ggcz"
      },
      "source": [
        "testX12 = pd.read_csv(\"Test/subject_012_01__x.csv\")\n",
        "testXtime12 = pd.read_csv(\"Test/subject_012_01__x_time.csv\")\n",
        "testY12time = pd.read_csv(\"Test/subject_012_01__y_time.csv\")"
      ],
      "execution_count": null,
      "outputs": []
    },
    {
      "cell_type": "markdown",
      "metadata": {
        "id": "wKdthTDFaUsD"
      },
      "source": [
        "# **Processing Test data.**\n",
        "\n",
        "We prepare the test data exactly like training data."
      ]
    },
    {
      "cell_type": "code",
      "metadata": {
        "id": "aN56mr_Wqydm"
      },
      "source": [
        "Xt = np.array(testX.values)\n",
        "Xt = Xt[1:len(Xt)]\n",
        "test_X = np.array([Xt[0:64]])\n",
        "    \n",
        "for i in range(68,len(Xt),4):\n",
        "  test_X = np.vstack((test_X,[Xt[i-64:i]]))\n",
        "  if i%10000 == 0:\n",
        "    print(i)\n",
        "  #if(len(X) - i <= 32):\n",
        "    #break\n",
        "testY = testY[16:]"
      ],
      "execution_count": null,
      "outputs": []
    },
    {
      "cell_type": "code",
      "metadata": {
        "id": "_6JnwB6ohNbQ"
      },
      "source": [
        "Xt9 = np.array(testX9.values)\n",
        "Xt9 = Xt9[1:len(Xt9)-1]\n",
        "test_X9 = np.array([Xt9[0:64]])\n",
        "    \n",
        "for i in range(68,len(Xt9),4):\n",
        "  test_X9 = np.vstack((test_X9,[Xt9[i-64:i]]))\n",
        "  if i%10000 == 0:\n",
        "    print(i)\n",
        "  #if(len(X) - i <= 32):\n",
        "    #break\n",
        "#testY7 = testY7[16:]"
      ],
      "execution_count": null,
      "outputs": []
    },
    {
      "cell_type": "code",
      "metadata": {
        "id": "-ryiTc7chciY"
      },
      "source": [
        "Xt10 = np.array(testX10.values)\n",
        "Xt10 = Xt10[1:len(Xt10)-3]\n",
        "test_X10 = np.array([Xt10[0:64]])\n",
        "    \n",
        "for i in range(68,len(Xt10),4):\n",
        "  test_X10 = np.vstack((test_X10,[Xt10[i-64:i]]))\n",
        "  if i%10000 == 0:\n",
        "    print(i)\n",
        "  #if(len(X) - i <= 32):\n",
        "    #break\n",
        "#testY7 = testY7[16:]"
      ],
      "execution_count": null,
      "outputs": []
    },
    {
      "cell_type": "code",
      "metadata": {
        "id": "VykjUB42hwzA"
      },
      "source": [
        "Xt11 = np.array(testX11.values)\n",
        "Xt11 = Xt11[1:len(Xt11)-3]\n",
        "test_X11 = np.array([Xt11[0:64]])\n",
        "    \n",
        "for i in range(68,len(Xt11),4):\n",
        "  test_X11 = np.vstack((test_X11,[Xt11[i-64:i]]))\n",
        "  if i%10000 == 0:\n",
        "    print(i)\n",
        "  #if(len(X) - i <= 32):\n",
        "    #break\n",
        "#testY7 = testY7[16:]"
      ],
      "execution_count": null,
      "outputs": []
    },
    {
      "cell_type": "code",
      "metadata": {
        "id": "JEb3zOKniQ-_"
      },
      "source": [
        "Xt12 = np.array(testX12.values)\n",
        "Xt12 = Xt12[1:len(Xt12)-1]\n",
        "test_X12 = np.array([Xt12[0:64]])\n",
        "    \n",
        "for i in range(68,len(Xt12),4):\n",
        "  test_X12 = np.vstack((test_X12,[Xt12[i-64:i]]))\n",
        "  if i%10000 == 0:\n",
        "    print(i)\n",
        "  #if(len(X) - i <= 32):\n",
        "    #break\n",
        "#testY7 = testY7[16:]"
      ],
      "execution_count": null,
      "outputs": []
    },
    {
      "cell_type": "code",
      "metadata": {
        "id": "U20MNwlxjCvn"
      },
      "source": [
        "XTest = test_X\n",
        "YTest = testY"
      ],
      "execution_count": null,
      "outputs": []
    },
    {
      "cell_type": "code",
      "metadata": {
        "id": "WmMXIFWu48He"
      },
      "source": [
        "# Converting the labels into one hot encoding.\n",
        "TRAIN_Y = to_categorical(Ytrain)\n",
        "TEST_Y = to_categorical(YTest)"
      ],
      "execution_count": null,
      "outputs": []
    },
    {
      "cell_type": "code",
      "metadata": {
        "colab": {
          "base_uri": "https://localhost:8080/"
        },
        "id": "BDy2MAPpty7f",
        "outputId": "6452f66f-884d-4f37-a2d8-8e51776061d3"
      },
      "source": [
        "n_timesteps, n_features, n_outputs = Xtrain.shape[1], Xtrain.shape[2], TRAIN_Y.shape[1]\n",
        "print(\"The Timesteps are : {}\\n Number of features : {}\\n Number of Outputs : {}\".format(n_timesteps, n_features, n_outputs))"
      ],
      "execution_count": null,
      "outputs": [
        {
          "output_type": "stream",
          "name": "stdout",
          "text": [
            "The Timesteps are : 64\n",
            " Number of features : 6\n",
            " Number of Outputs : 4\n"
          ]
        }
      ]
    },
    {
      "cell_type": "code",
      "metadata": {
        "id": "Tt4SwEOEshMw"
      },
      "source": [
        "#Dividing the 64 time steps in every datapoint into 4 sequences for 16 timesteps for the convolutional layer.\n",
        "n_steps, n_length = 4, 16\n",
        "TRAIN_X = Xtrain.reshape((Xtrain.shape[0], n_steps, n_length, n_features))\n",
        "TEST_X = XTest.reshape((XTest.shape[0], n_steps, n_length, n_features))"
      ],
      "execution_count": null,
      "outputs": []
    },
    {
      "cell_type": "markdown",
      "metadata": {
        "id": "o9hBnYR-yc7c"
      },
      "source": [
        "# **CNN-LSTM Model**\n",
        "We use the CNN-LSTM model. To deal with the remaining class imbalance, we use class weights during training."
      ]
    },
    {
      "cell_type": "code",
      "metadata": {
        "colab": {
          "base_uri": "https://localhost:8080/"
        },
        "id": "n4lM05VT9dsj",
        "outputId": "6150d0ad-c08b-456d-b439-b6ff6fe9292d"
      },
      "source": [
        "from google.colab import drive\n",
        "drive.mount('/content/drive')"
      ],
      "execution_count": null,
      "outputs": [
        {
          "output_type": "stream",
          "name": "stdout",
          "text": [
            "Mounted at /content/drive\n"
          ]
        }
      ]
    },
    {
      "cell_type": "code",
      "metadata": {
        "id": "abLjtrPe8g0Q"
      },
      "source": [
        "class_weights = {\n",
        "    0:1.,\n",
        "    1:1.,\n",
        "    2:1.,\n",
        "    3:1.\n",
        "}"
      ],
      "execution_count": null,
      "outputs": []
    },
    {
      "cell_type": "code",
      "metadata": {
        "id": "w9nglepKuTmM"
      },
      "source": [
        "from sklearn.metrics import confusion_matrix\n",
        "\n",
        "verbose, epochs, batch_size = 0, 50, 64\n",
        "\n",
        "model = Sequential()\n",
        "model.add(TimeDistributed(Conv1D(filters=64, kernel_size=3, activation='relu'), input_shape=(None,n_length,n_features)))\n",
        "model.add(TimeDistributed(Conv1D(filters=64, kernel_size=3, activation='relu')))\n",
        "model.add(TimeDistributed(Dropout(0.5)))\n",
        "model.add(TimeDistributed(MaxPooling1D(pool_size=2)))\n",
        "model.add(TimeDistributed(Flatten()))\n",
        "model.add(LSTM(100))\n",
        "model.add(Dropout(0.5))\n",
        "model.add(Dense(100, activation='relu'))\n",
        "model.add(Dense(n_outputs, activation='softmax'))\n",
        "model.compile(loss='categorical_crossentropy', optimizer='adam', metrics=['accuracy'])\n",
        "# fit network\n",
        "model.fit(TRAIN_X, TRAIN_Y, epochs=epochs, batch_size=batch_size, verbose=verbose, class_weight=class_weights)\n",
        "# evaluate model\n",
        "_, accuracy = model.evaluate(TEST_X, TEST_Y, batch_size=batch_size, verbose=0)"
      ],
      "execution_count": null,
      "outputs": []
    },
    {
      "cell_type": "code",
      "metadata": {
        "id": "y1AgQPr7ubow"
      },
      "source": [
        "print('The Accuracy of the model is : ', accuracy)"
      ],
      "execution_count": null,
      "outputs": []
    },
    {
      "cell_type": "code",
      "metadata": {
        "id": "aGrrrsjB1Xja"
      },
      "source": [
        "import seaborn as sn\n",
        "\n",
        "y_pred = model.predict(TEST_X)\n",
        "matrix = confusion_matrix(TEST_Y.argmax(axis=1), y_pred.argmax(axis=1))\n",
        "\n",
        "df_cm = pd.DataFrame(matrix, index = [i for i in \"0123\"],\n",
        "              columns = [i for i in \"0123\"])\n",
        "plt.figure(figsize = (10,7))\n",
        "sn.heatmap(df_cm, annot=True,cmap=\"OrRd\", fmt='g')\n",
        "plt.show()"
      ],
      "execution_count": null,
      "outputs": []
    },
    {
      "cell_type": "code",
      "metadata": {
        "id": "ZK4PJUHvMAPe"
      },
      "source": [
        "from sklearn.metrics import f1_score\n",
        "f1_score(TEST_Y.argmax(axis=1), y_pred.argmax(axis=1), average='macro')"
      ],
      "execution_count": null,
      "outputs": []
    },
    {
      "cell_type": "code",
      "metadata": {
        "id": "R63j3uALB7s7"
      },
      "source": [
        "from sklearn.metrics import classification_report\n",
        "print(classification_report(TEST_Y.argmax(axis=1), y_pred.argmax(axis=1)))"
      ],
      "execution_count": null,
      "outputs": []
    },
    {
      "cell_type": "code",
      "metadata": {
        "id": "7k7j_QeCjsGf"
      },
      "source": [
        "goo = np.zeros((16,))\n",
        "TEST_X9 = test_X9.reshape((test_X9.shape[0], n_steps, n_length, n_features))\n",
        "TEST9pred = model.predict(TEST_X9)\n",
        "TEST_9 = TEST9pred.argmax(axis=1)\n",
        "pred_9 = np.append(goo,TEST_9)\n",
        "PRED_9 = pred_9.astype(int)\n",
        "PRED_9_df = pd.DataFrame(PRED_9,columns = [testY9time.columns])\n",
        "np.savetxt(fname=\"subject_009_01__y.csv\", delimiter=\",\", X=PRED_9_df)\n"
      ],
      "execution_count": null,
      "outputs": []
    },
    {
      "cell_type": "code",
      "metadata": {
        "id": "VJ4CEDzL82Kz"
      },
      "source": [
        "result = pd.DataFrame(TEST_9)\n",
        "result.to_csv('subject_009_01__y.csv',index=False,header=False)\n",
        "!cp subject_009_01__y.csv \"/content/drive/MyDrive/\""
      ],
      "execution_count": null,
      "outputs": []
    },
    {
      "cell_type": "code",
      "metadata": {
        "id": "IAeL7Lhq31JF"
      },
      "source": [
        "goo = np.zeros((16,))\n",
        "TEST_X10 = test_X10.reshape((test_X10.shape[0], n_steps, n_length, n_features))\n",
        "TEST10pred = model.predict(TEST_X10)\n",
        "TEST_10 = TEST10pred.argmax(axis=1)\n",
        "pred_10 = np.append(goo,TEST_10)\n",
        "PRED_10 = pred_10.astype(int)\n",
        "PRED_10_df = pd.DataFrame(PRED_10,columns = [testY10time.columns])\n",
        "np.savetxt(fname=\"subject_010_01__y.csv\", delimiter=\",\", X=PRED_10_df)"
      ],
      "execution_count": null,
      "outputs": []
    },
    {
      "cell_type": "code",
      "metadata": {
        "id": "osFDHdcS9u6d"
      },
      "source": [
        "result = pd.DataFrame(TEST_10)\n",
        "result.to_csv('subject_010_01__y.csv',index=False,header=False)\n",
        "!cp subject_010_01__y.csv \"/content/drive/MyDrive/\""
      ],
      "execution_count": null,
      "outputs": []
    },
    {
      "cell_type": "code",
      "metadata": {
        "id": "zvRFCK8e5k02"
      },
      "source": [
        "goo = np.zeros((16,))\n",
        "TEST_X11 = test_X11.reshape((test_X11.shape[0], n_steps, n_length, n_features))\n",
        "TEST11pred = model.predict(TEST_X11)\n",
        "TEST_11 = TEST11pred.argmax(axis=1)\n",
        "pred_11 = np.append(goo,TEST_11)\n",
        "PRED_11 = pred_11.astype(int)\n",
        "PRED_11_df = pd.DataFrame(PRED_11,columns = [testY11time.columns])\n",
        "np.savetxt(fname=\"subject_011_01__y.csv\", delimiter=\",\", X=PRED_11_df)"
      ],
      "execution_count": null,
      "outputs": []
    },
    {
      "cell_type": "code",
      "metadata": {
        "id": "nZR2kk4U9zTt"
      },
      "source": [
        "result = pd.DataFrame(TEST_11)\n",
        "result.to_csv('subject_011_01__y.csv',index=False,header=False)\n",
        "!cp subject_011_01__y.csv \"/content/drive/MyDrive/\""
      ],
      "execution_count": null,
      "outputs": []
    },
    {
      "cell_type": "code",
      "metadata": {
        "id": "12G8OLhQ5yKw"
      },
      "source": [
        "goo = np.zeros((16,))\n",
        "TEST_X12 = test_X12.reshape((test_X12.shape[0], n_steps, n_length, n_features))\n",
        "TEST12pred = model.predict(TEST_X12)\n",
        "TEST_12 = TEST12pred.argmax(axis=1)\n",
        "pred_12 = np.append(goo,TEST_12)\n",
        "PRED_12 = pred_12.astype(int)\n",
        "PRED_12_df = pd.DataFrame(PRED_12,columns = [testY12time.columns])\n",
        "np.savetxt(fname=\"subject_012_01__y.csv\", delimiter=\",\", X=PRED_12_df)"
      ],
      "execution_count": null,
      "outputs": []
    },
    {
      "cell_type": "code",
      "metadata": {
        "id": "dZtW0itC9z0F"
      },
      "source": [
        "result = pd.DataFrame(TEST_12)\n",
        "result.to_csv('subject_012_01__y.csv',index=False,header=False)\n",
        "!cp subject_012_01__y.csv \"/content/drive/MyDrive/\""
      ],
      "execution_count": null,
      "outputs": []
    },
    {
      "cell_type": "code",
      "metadata": {
        "id": "l62HZMLieru9"
      },
      "source": [
        "d9 = pd.read_csv('subject_009_01__y.csv',header=None)\n",
        "d10 = pd.read_csv('subject_010_01__y.csv',header=None)\n",
        "d11 = pd.read_csv('subject_011_01__y.csv',header=None)\n",
        "d12 = pd.read_csv('subject_012_01__y.csv',header=None)\n",
        "plt.plot(d9)\n",
        "plt.plot(d10)\n",
        "plt.plot(d11)\n",
        "plt.plot(d12)"
      ],
      "execution_count": null,
      "outputs": []
    }
  ]
}